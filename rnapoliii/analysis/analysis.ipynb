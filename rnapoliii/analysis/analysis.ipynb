{
  "cells": [
    {
      "cell_type": "markdown",
      "metadata": {},
      "source": [
        "Analysis of integrative models \n",
        "================================\n",
        "\n",
        ""
      ]
    },
    {
      "cell_type": "markdown",
      "metadata": {},
      "source": [
        "Introduction"
      ]
    },
    {
      "cell_type": "markdown",
      "metadata": {},
      "source": [
        "# Find good scoring models\n",
        "\n"
      ]
    },
    {
      "cell_type": "code",
      "execution_count": 5,
      "metadata": {},
      "outputs": [],
      "source": [
        "mkdir -p modeling/run1\n",
        "ln -sf ../../../../../imp_tutorial_pol3_xl_cryoem_premodeling/modeling/A_output_3 \\\n",
        "       modeling/run1/output"
      ]
    },
    {
      "cell_type": "markdown",
      "metadata": {},
      "source": [
        "Look at score distributions"
      ]
    },
    {
      "cell_type": "code",
      "execution_count": 1,
      "metadata": {},
      "outputs": [
        {
          "name": "stdout",
          "output_type": "stream",
          "text": [
            "['CrossLinkingMassSpectrometryRestraint_Distance_']\n",
            "Model score file at ./filter/model_ids_scores.txt\n"
          ]
        }
      ],
      "source": [
        "python scripts/select_good_scoring_models.py \\\n",
        "    -rd modeling -rp run \\\n",
        "    -sl CrossLinkingMassSpectrometryRestraint_Distance_ \\\n",
        "    -pl ConnectivityRestraint_ABC10alpha \\\n",
        "        CrossLinkingMassSpectrometryRestraint_Data_Score_XL \\\n",
        "        ExcludedVolumeSphere_None \\\n",
        "        GaussianEMRestraint_Total \\\n",
        "        Total_Score \\\n",
        "    -alt 0.9 -aut 1.0 -mlt 0.0 -mut 30.0"
      ]
    },
    {
      "cell_type": "markdown",
      "metadata": {},
      "source": [
        "Plot the distribution of the EM score"
      ]
    },
    {
      "cell_type": "code",
      "execution_count": 2,
      "metadata": {},
      "outputs": [
        {
          "name": "stdout",
          "output_type": "stream",
          "text": [
            "Traceback (most recent call last):\n",
            "  File \"scripts/plot_score.py\", line 5, in <module>\n",
            "    import os,sys,string,pandas\n",
            "ModuleNotFoundError: No module named 'pandas'\n"
          ]
        },
        {
          "ename": "",
          "evalue": "1",
          "output_type": "error",
          "traceback": []
        }
      ],
      "source": [
        "python scripts/plot_score.py \\\n",
        "    filter/model_ids_scores.txt \\\n",
        "    GaussianEMRestraint_Total"
      ]
    },
    {
      "cell_type": "markdown",
      "metadata": {},
      "source": [
        "Determine thresholds, rerun model selection"
      ]
    },
    {
      "cell_type": "code",
      "execution_count": null,
      "metadata": {},
      "outputs": [],
      "source": [
        "python scripts/select_good_scoring_models.py \\\n",
        "    -rd modeling -rp run \\\n",
        "    -sl CrossLinkingMassSpectrometryRestraint_Distance_ \\\n",
        "        GaussianEMRestraint_Total \\\n",
        "    -pl ConnectivityRestraint_ABC10alpha \\\n",
        "        CrossLinkingMassSpectrometryRestraint_Data_Score_XL \\\n",
        "        ExcludedVolumeSphere_None \\\n",
        "        Total_Score \\\n",
        "    -alt 0.9 -50 -aut 1.0 5440 -mlt 0.0 0.0 -mut 30.0 0.0 -e"
      ]
    },
    {
      "cell_type": "markdown",
      "metadata": {},
      "source": [
        "Make density_ranges.txt. Run sampling exhaustiveness script"
      ]
    },
    {
      "cell_type": "code",
      "execution_count": null,
      "metadata": {},
      "outputs": [],
      "source": [
        "python scripts/Master_Sampling_Exhaustiveness_Analysis.py \\\n",
        "       -n rnapoliii -p good_scoring_models/ \\\n",
        "       -d density_ranges.txt -m cpu_omp \\\n",
        "       -c 8 -a -g 0.1 -gp"
      ]
    }
  ],
  "metadata": {
    "kernelspec": {
      "display_name": "Bash",
      "language": "bash",
      "name": "bash"
    },
    "language_info": {
      "codemirror_mode": "shell",
      "file_extension": ".sh",
      "mimetype": "text/x-sh",
      "name": "bash"
    }
  },
  "nbformat": 4,
  "nbformat_minor": 1
}